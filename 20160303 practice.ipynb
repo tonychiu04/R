{
 "cells": [
  {
   "cell_type": "markdown",
   "metadata": {},
   "source": [
    "### 小測驗 -- 把match上的數字印在5x5的方格中"
   ]
  },
  {
   "cell_type": "code",
   "execution_count": 8,
   "metadata": {
    "collapsed": false
   },
   "outputs": [
    {
     "name": "stdout",
     "output_type": "stream",
     "text": [
      "     [,1] [,2] [,3] [,4] [,5]\n",
      "[1,]   NA   NA   NA   NA   NA\n",
      "[2,]   NA   NA   NA   NA   NA\n",
      "[3,]   NA   NA   NA   NA   NA\n",
      "[4,]   NA   NA   NA   NA   NA\n",
      "[5,]   NA   NA   NA   NA   NA\n"
     ]
    }
   ],
   "source": [
    "match = read.table(\"C:/Users/BIG DATA/Desktop/iii-R201603/data/match.txt\", sep=\"|\",stringsAsFactors=FALSE)\n",
    "k = matrix(NA, nrow = 5, ncol = 5)\n",
    "\n",
    "print(k)"
   ]
  },
  {
   "cell_type": "markdown",
   "metadata": {},
   "source": [
    "### 方法一"
   ]
  },
  {
   "cell_type": "code",
   "execution_count": 9,
   "metadata": {
    "collapsed": false
   },
   "outputs": [
    {
     "name": "stdout",
     "output_type": "stream",
     "text": [
      "     [,1] [,2] [,3] [,4] [,5]\n",
      "[1,]   NA    2    2    1    1\n",
      "[2,]    1   NA    0    1    1\n",
      "[3,]    3    1   NA    2    2\n",
      "[4,]    2    3    1   NA    3\n",
      "[5,]    0    0    5    0   NA\n"
     ]
    }
   ],
   "source": [
    "count = 1\n",
    "for(i in 1:5){\n",
    "  for (e in 1:5){\n",
    "    if (i == e){\n",
    "    }else{\n",
    "    k[e,i]=match[count,3]\n",
    "    count = count + 1\n",
    "    }\n",
    "  }\n",
    "}\n",
    "\n",
    "print(k)"
   ]
  },
  {
   "cell_type": "markdown",
   "metadata": {},
   "source": [
    "### 方法二"
   ]
  },
  {
   "cell_type": "code",
   "execution_count": 12,
   "metadata": {
    "collapsed": false
   },
   "outputs": [
    {
     "name": "stdout",
     "output_type": "stream",
     "text": [
      "   A  B  C  D  E\n",
      "A NA  1  3  2  0\n",
      "B  2 NA  1  3  0\n",
      "C  2  0 NA  1  5\n",
      "D  1  1  2 NA  0\n",
      "E  1  1  2  3 NA\n"
     ]
    }
   ],
   "source": [
    "m = matrix(NA, nrow = 5, ncol = 5)\n",
    "colnames(m)=c('A','B','C','D','E')\n",
    "rownames(m)=c('A','B','C','D','E')\n",
    "for(n in 1:nrow(match)){\n",
    "  m[match[n,1],match[n,2]]=match[n,3]\n",
    "}\n",
    "print(m)"
   ]
  },
  {
   "cell_type": "markdown",
   "metadata": {},
   "source": [
    "### cbind的應用"
   ]
  },
  {
   "cell_type": "code",
   "execution_count": 15,
   "metadata": {
    "collapsed": false
   },
   "outputs": [
    {
     "data": {
      "text/html": [
       "<table>\n",
       "<thead><tr><th></th><th scope=col>name</th><th scope=col>city</th><th scope=col>address</th></tr></thead>\n",
       "<tbody>\n",
       "\t<tr><th scope=row>1</th><td>tony</td><td>Taipei</td><td>shilin</td></tr>\n",
       "\t<tr><th scope=row>2</th><td>amy</td><td>Jiayi</td><td>taibou</td></tr>\n",
       "\t<tr><th scope=row>3</th><td>curry</td><td>Taipei</td><td>shilin</td></tr>\n",
       "\t<tr><th scope=row>4</th><td>jeff</td><td>Jiayi</td><td>taibou</td></tr>\n",
       "</tbody>\n",
       "</table>\n"
      ],
      "text/latex": [
       "\\begin{tabular}{r|lll}\n",
       "  & name & city & address\\\\\n",
       "\\hline\n",
       "\t1 & tony & Taipei & shilin\\\\\n",
       "\t2 & amy & Jiayi & taibou\\\\\n",
       "\t3 & curry & Taipei & shilin\\\\\n",
       "\t4 & jeff & Jiayi & taibou\\\\\n",
       "\\end{tabular}\n"
      ],
      "text/plain": [
       "   name   city address\n",
       "1  tony Taipei  shilin\n",
       "2   amy  Jiayi  taibou\n",
       "3 curry Taipei  shilin\n",
       "4  jeff  Jiayi  taibou"
      ]
     },
     "execution_count": 15,
     "metadata": {},
     "output_type": "execute_result"
    }
   ],
   "source": [
    "address = data.frame(city=c('Taipei',\"Jiayi\"),address = c(\"shilin\",\"taibou\"))\n",
    "x=c('tony','amy','curry','jeff')\n",
    "contacts = cbind(name=x,address)\n",
    "contacts"
   ]
  },
  {
   "cell_type": "markdown",
   "metadata": {},
   "source": [
    "### print ( x ,digits=s,quote=F,right=T)  印出 至少s位數，quote=是否加雙引號，是否靠右"
   ]
  },
  {
   "cell_type": "code",
   "execution_count": 17,
   "metadata": {
    "collapsed": false
   },
   "outputs": [
    {
     "name": "stdout",
     "output_type": "stream",
     "text": [
      "  Quant    Lower  Upper\n",
      "1 \"0.0\" \"0.5000\" \"0.50\"\n",
      "2 \"0.5\" \"0.3085\" \"0.69\"\n",
      "3 \"1.0\" \"0.1587\" \"0.84\"\n",
      "4 \"1.5\" \"0.0668\" \"0.93\"\n",
      "5 \"2.0\" \"0.0228\" \"0.98\"\n",
      "6 \"2.5\" \"0.0062\" \"0.99\"\n",
      "7 \"3.0\" \"0.0013\" \"1.00\"\n"
     ]
    }
   ],
   "source": [
    "q = seq(from=0,to=3,by=0.5)\n",
    "t1 = data.frame(Quant=q, Lower=pnorm(-q), Upper=pnorm(q))\n",
    "z = print(t1,digits = 2, quote = T, right = T)"
   ]
  },
  {
   "cell_type": "markdown",
   "metadata": {},
   "source": [
    "### 輸出檔案，會存在預設路徑"
   ]
  },
  {
   "cell_type": "code",
   "execution_count": 21,
   "metadata": {
    "collapsed": false
   },
   "outputs": [
    {
     "name": "stdout",
     "output_type": "stream",
     "text": [
      "  Quant       Lower     Upper\n",
      "1   0.0 0.500000000 0.5000000\n",
      "2   0.5 0.308537539 0.6914625\n",
      "3   1.0 0.158655254 0.8413447\n",
      "4   1.5 0.066807201 0.9331928\n",
      "5   2.0 0.022750132 0.9772499\n",
      "6   2.5 0.006209665 0.9937903\n",
      "7   3.0 0.001349898 0.9986501\n",
      "  Quant    Lower  Upper\n",
      "1 \"0.0\" \"0.5000\" \"0.50\"\n",
      "2 \"0.5\" \"0.3085\" \"0.69\"\n",
      "3 \"1.0\" \"0.1587\" \"0.84\"\n",
      "4 \"1.5\" \"0.0668\" \"0.93\"\n",
      "5 \"2.0\" \"0.0228\" \"0.98\"\n",
      "6 \"2.5\" \"0.0062\" \"0.99\"\n",
      "7 \"3.0\" \"0.0013\" \"1.00\"\n",
      "The End...."
     ]
    }
   ],
   "source": [
    "name = \"Tony\"\n",
    "cat(\"My name is\", name, \"\\n\", file=\"filename.txt\")\n",
    "\n",
    "#or\n",
    "\n",
    "sink(\"filename.txt\")\n",
    "q = seq(from=0,to=3,by=0.5)\n",
    "t1 = data.frame(Quant=q, Lower=pnorm(-q), Upper=pnorm(q))\n",
    "print(t1)\n",
    "z = print(t1,digits = 2, quote = T, right = T)\n",
    "cat(\"The End....\")\n",
    "sink()"
   ]
  },
  {
   "cell_type": "markdown",
   "metadata": {},
   "source": [
    "### 使用R時，路徑的斜線要注意要使用\"/\"，否則就要使用\"//\""
   ]
  }
 ],
 "metadata": {
  "kernelspec": {
   "display_name": "R",
   "language": "R",
   "name": "ir"
  },
  "language_info": {
   "codemirror_mode": "r",
   "file_extension": ".r",
   "mimetype": "text/x-r-source",
   "name": "R",
   "pygments_lexer": "r",
   "version": "3.1.3"
  }
 },
 "nbformat": 4,
 "nbformat_minor": 0
}
